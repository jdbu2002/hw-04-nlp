{
 "cells": [
  {
   "cell_type": "markdown",
   "id": "2a2e2e60",
   "metadata": {},
   "source": [
    "# Paso 1\n",
    "\n",
    "Se tienen los libros de:\n",
    "\n",
    "* Arthur Conan Doyle\n",
    "* Lewis Carroll\n",
    "* William Shakespeare"
   ]
  },
  {
   "cell_type": "code",
   "execution_count": null,
   "id": "3c795cfb",
   "metadata": {},
   "outputs": [],
   "source": [
    "!pip install gensim"
   ]
  },
  {
   "cell_type": "code",
   "execution_count": null,
   "id": "074c5808",
   "metadata": {},
   "outputs": [],
   "source": [
    "import multiprocessing\n",
    "import re\n",
    "import nltk\n",
    "\n",
    "from gensim.models.word2vec import Word2Vec\n",
    "from io import TextIOWrapper\n",
    "\n",
    "from nltk.corpus import stopwords\n",
    "from nltk.stem import SnowballStemmer\n",
    "\n",
    "nltk.download('stopwords', quiet=True)\n",
    "cores = multiprocessing.cpu_count()"
   ]
  },
  {
   "cell_type": "code",
   "execution_count": null,
   "id": "d3f91a40",
   "metadata": {},
   "outputs": [],
   "source": [
    "def serialize_text(f: TextIOWrapper):\n",
    "    begun = False\n",
    "    full_text = []\n",
    "    paragraph = \"\"\n",
    "\n",
    "    for base_line in f:\n",
    "        line = base_line.strip()\n",
    "\n",
    "        if len(line) == 0:\n",
    "            if len(paragraph) > 0:\n",
    "                full_text.append(paragraph.strip())\n",
    "                paragraph = \"\"\n",
    "\n",
    "            continue\n",
    "\n",
    "        if line.startswith(\"*** START OF THE PROJECT GUTENBERG EBOOK\"):\n",
    "            begun = True\n",
    "            continue\n",
    "\n",
    "        if line.startswith(\"*** END OF THE PROJECT GUTENBERG EBOOK\"):\n",
    "            break\n",
    "\n",
    "        if begun:\n",
    "            paragraph += line + \" \"\n",
    "\n",
    "    return full_text\n",
    "\n",
    "stemmer = SnowballStemmer('english')\n",
    "stops = stopwords.words('english')\n",
    "\n",
    "def tokenize(text: str):\n",
    "    processed_feature = re.sub(r'\\W', ' ', str(text))\n",
    "    processed_feature= re.sub(r'\\s+[a-zA-Z]\\s+', ' ', processed_feature)\n",
    "    processed_feature = re.sub(r'\\^[a-zA-Z]\\s+', ' ', processed_feature)\n",
    "    processed_feature = re.sub(r'[0-9]+', ' ', processed_feature)\n",
    "    processed_feature = re.sub(' +', ' ', processed_feature)\n",
    "    processed_feature = processed_feature.lower()\n",
    "    processed_feature = [stemmer.stem(i) for i in processed_feature.split()]\n",
    "    processed_feature = \" \".join([token for token in processed_feature if token not in stops])\n",
    "    return processed_feature"
   ]
  },
  {
   "cell_type": "code",
   "execution_count": null,
   "id": "f78104b9",
   "metadata": {},
   "outputs": [],
   "source": [
    "with open(\"./arthur-return-sherlock.txt\") as f:\n",
    "  lines = serialize_text(f)\n",
    "  sentences_original = [line.strip() for text in lines for line in text.split(\". \") if len(line.strip()) > 0]\n",
    "  sentences = [tokenize(sentence).split(\" \") for sentence in sentences_original]\n",
    "  print(sentences)"
   ]
  },
  {
   "cell_type": "code",
   "execution_count": null,
   "id": "7e185fe0",
   "metadata": {},
   "outputs": [],
   "source": [
    "w2v_model = Word2Vec(\n",
    "    min_count=5,\n",
    "    window=3,\n",
    "    vector_size=1024,\n",
    "    workers=cores-1\n",
    "    )\n",
    "\n",
    "w2v_model.build_vocab(sentences)\n",
    "w2v_model.train(sentences, total_examples=w2v_model.corpus_count, epochs=30)"
   ]
  },
  {
   "cell_type": "code",
   "execution_count": null,
   "id": "5dc62ce0",
   "metadata": {},
   "outputs": [],
   "source": [
    "w2v_model.save(\"books.model\")\n",
    "w2v_model.wv.save_word2vec_format(\"books_word2vec.txt\")"
   ]
  }
 ],
 "metadata": {
  "kernelspec": {
   "display_name": "Python 3",
   "language": "python",
   "name": "python3"
  },
  "language_info": {
   "codemirror_mode": {
    "name": "ipython",
    "version": 3
   },
   "file_extension": ".py",
   "mimetype": "text/x-python",
   "name": "python",
   "nbconvert_exporter": "python",
   "pygments_lexer": "ipython3",
   "version": "3.13.7"
  }
 },
 "nbformat": 4,
 "nbformat_minor": 5
}

{
  "cells": [
    {
      "cell_type": "markdown",
      "metadata": {
        "id": "ESKlO8GoL_ym"
      },
      "source": [
        "# HW04 - NLP\n",
        "## Punto I"
      ]
    },
    {
      "cell_type": "markdown",
      "metadata": {},
      "source": [
        "Choose three authors whose works are available in the Gutenberg project. For each of these authors, it is imperative to carefully select and download a minimum of three books, totaling at least nine books in all. Utilize these selected literary works to train word embeddings using the GENSIM library and the word2vec model.\n",
        "- Prepare the training dataset using appropriate text preprocessing steps.\n",
        "- Try different embeddings dimensionalities (at least 3) and save them to disk using appropriate GENSIM methods:\n",
        "    - Books_<size_1>_<group_code>\n",
        "    - Books_<size_2>_<group_code>\n",
        "    - Books_<size_3>_<group_code"
      ]
    },
    {
      "cell_type": "code",
      "execution_count": null,
      "metadata": {},
      "outputs": [
        {
          "name": "stdout",
          "output_type": "stream",
          "text": [
            "Requirement already satisfied: gensim in /usr/local/lib/python3.12/dist-packages (4.3.3)\n",
            "Requirement already satisfied: numpy<2.0,>=1.18.5 in /usr/local/lib/python3.12/dist-packages (from gensim) (1.26.4)\n",
            "Requirement already satisfied: scipy<1.14.0,>=1.7.0 in /usr/local/lib/python3.12/dist-packages (from gensim) (1.13.1)\n",
            "Requirement already satisfied: smart-open>=1.8.1 in /usr/local/lib/python3.12/dist-packages (from gensim) (7.3.1)\n",
            "Requirement already satisfied: wrapt in /usr/local/lib/python3.12/dist-packages (from smart-open>=1.8.1->gensim) (1.17.3)\n"
          ]
        }
      ],
      "source": [
        "#!pip install gensim"
      ]
    },
    {
      "cell_type": "code",
      "execution_count": 21,
      "metadata": {},
      "outputs": [],
      "source": [
        "import multiprocessing\n",
        "import re\n",
        "import os\n",
        "\n",
        "from gensim.models.word2vec import Word2Vec\n",
        "from io import TextIOWrapper\n",
        "\n",
        "cores = multiprocessing.cpu_count()"
      ]
    },
    {
      "cell_type": "code",
      "execution_count": 22,
      "metadata": {
        "id": "PKZCDKZLC8ka"
      },
      "outputs": [],
      "source": [
        "def serialize_text(f: TextIOWrapper):\n",
        "    begun = False\n",
        "    full_text = []\n",
        "    paragraph = \"\"\n",
        "\n",
        "    for base_line in f:\n",
        "        line = base_line.strip()\n",
        "\n",
        "        if len(line) == 0:\n",
        "            if len(paragraph) > 0:\n",
        "                full_text.append(paragraph.strip())\n",
        "                paragraph = \"\"\n",
        "\n",
        "            continue\n",
        "\n",
        "        if line.startswith(\"*** START OF THE PROJECT GUTENBERG EBOOK\"):\n",
        "            begun = True\n",
        "            continue\n",
        "\n",
        "        if line.startswith(\"*** END OF THE PROJECT GUTENBERG EBOOK\"):\n",
        "            break\n",
        "\n",
        "        if begun:\n",
        "            paragraph += line + \" \"\n",
        "\n",
        "    return full_text\n",
        "\n",
        "def tokenize(text: str):\n",
        "    processed = text.lower()  # Solo minúsculas\n",
        "    processed = re.sub(r'[^a-z\\s\\']', ' ', processed)  # Mantener letras y apóstrofes\n",
        "    processed = re.sub(r'\\s+', ' ', processed).strip()  # Normalizar espacios\n",
        "    tokens = processed.split()\n",
        "    tokens = [token for token in tokens if len(token) > 1]  # Eliminar tokens de 1 letra\n",
        "    return tokens "
      ]
    },
    {
      "cell_type": "code",
      "execution_count": 23,
      "metadata": {
        "colab": {
          "base_uri": "https://localhost:8080/"
        },
        "id": "lO1TOa4mCNUe",
        "outputId": "5550776a-1049-41da-dd9e-7346bf66f87f"
      },
      "outputs": [
        {
          "name": "stdout",
          "output_type": "stream",
          "text": [
            "Total sentences: 24099\n"
          ]
        }
      ],
      "source": [
        "base_path = \"./books\"\n",
        "books = os.listdir(base_path)\n",
        "sentences = []\n",
        "\n",
        "for book in books:\n",
        "    book_name = book.replace('.txt', '')\n",
        "    path = os.path.join(base_path, book)\n",
        "    with open(path, encoding=\"utf-8\") as f:\n",
        "        lines = serialize_text(f)\n",
        "        \n",
        "        sentences_original = [line.strip() for text in lines for line in text.split(\". \") if len(line.strip()) > 0]\n",
        "        sentences_tokenized = [tokenize(sentence) for sentence in sentences_original]\n",
        "        sentences_tokenized = [token_list for token_list in sentences_tokenized if len(token_list) > 0]  # Filtrar listas vacías\n",
        "        \n",
        "        sentences += sentences_tokenized\n",
        "\n",
        "print(f\"Total sentences: {len(sentences)}\")"
      ]
    },
    {
      "cell_type": "code",
      "execution_count": 24,
      "metadata": {
        "id": "ZghgoMrxMrKw"
      },
      "outputs": [],
      "source": [
        "w2v_models = {}\n",
        "vector_sizes = [1024, 512, 128]\n",
        "\n",
        "for vector_size in vector_sizes:\n",
        "  w2v_model = Word2Vec(\n",
        "      min_count=5,\n",
        "      window=3,\n",
        "      vector_size=vector_size,\n",
        "      workers=cores-1\n",
        "      )\n",
        "\n",
        "  w2v_model.build_vocab(sentences)\n",
        "  w2v_model.train(sentences, total_examples=w2v_model.corpus_count, epochs=30)\n",
        "\n",
        "  w2v_models[vector_size] = w2v_model"
      ]
    },
    {
      "cell_type": "code",
      "execution_count": 25,
      "metadata": {
        "id": "e-TPyK7LOWDA"
      },
      "outputs": [],
      "source": [
        "os.makedirs(\"./vectors\", exist_ok=True)\n",
        "\n",
        "for vector_size in vector_sizes:\n",
        "  path = f\"./vectors/Books_{vector_size}_001\"\n",
        "  with open(f\"{path}.txt\", \"w\") as f:\n",
        "      f.write(\"\")\n",
        "\n",
        "  with open(f\"{path}.model\", \"w\") as f:\n",
        "      f.write(\"\")\n",
        "\n",
        "  w2v_models[vector_size].save(f\"{path}.model\")\n",
        "  w2v_models[vector_size].wv.save_word2vec_format(f\"{path}.txt\")"
      ]
    },
    {
      "cell_type": "code",
      "execution_count": null,
      "metadata": {},
      "outputs": [],
      "source": []
    }
  ],
  "metadata": {
    "colab": {
      "provenance": []
    },
    "kernelspec": {
      "display_name": "venv_hw04",
      "language": "python",
      "name": "python3"
    },
    "language_info": {
      "codemirror_mode": {
        "name": "ipython",
        "version": 3
      },
      "file_extension": ".py",
      "mimetype": "text/x-python",
      "name": "python",
      "nbconvert_exporter": "python",
      "pygments_lexer": "ipython3",
      "version": "3.10.12"
    }
  },
  "nbformat": 4,
  "nbformat_minor": 0
}
